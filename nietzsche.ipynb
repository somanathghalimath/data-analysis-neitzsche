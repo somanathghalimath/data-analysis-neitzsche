{
 "cells": [
  {
   "cell_type": "code",
   "execution_count": null,
   "metadata": {},
   "outputs": [],
   "source": [
    "%matplotlib inline\n",
    "import nltk\n",
    "from nltk.corpus import stopwords \n",
    "from wordcloud import WordCloud \n",
    "import matplotlib.pyplot as plt \n",
    "from vaderSentiment.vaderSentiment import SentimentIntensityAnalyzer \n",
    "\n",
    "with open('file-name', encoding=\"utf8\") as t:\n",
    "    text = [l.strip() for l in t]\n",
    "\n",
    "text = [t.lower() for t in text][:-10]\n",
    "raw = ' '.join(text)\n",
    "\n",
    "stop_words = set(stopwords.words('english')) \n",
    "\n",
    "tokens = [t for t in nltk.word_tokenize(raw) if t not in stop_words]\n",
    "tokens = [t for t in tokens if t.isalpha()]\n",
    "freq = nltk.FreqDist(tokens)\n",
    "    "
   ]
  },
  {
   "cell_type": "code",
   "execution_count": null,
   "metadata": {},
   "outputs": [],
   "source": [
    "wordsForCloud = [i[0] for i in freq.most_common(50)]\n",
    "words = ' '.join(wordsForCloud)\n",
    "wordcloud = WordCloud(width = 800, height = 800,background_color ='white',min_font_size = 10,max_words=50).generate(words) \n",
    "    \n",
    "plt.figure(figsize = (10, 10), facecolor = None) \n",
    "plt.imshow(wordcloud,interpolation='bilinear') \n",
    "plt.axis(\"off\") \n",
    "plt.show() "
   ]
  },
  {
   "cell_type": "code",
   "execution_count": null,
   "metadata": {},
   "outputs": [],
   "source": [
    "freqWords =  [i[0] for i in freq.most_common(10)]\n",
    "values =  [i[1] for i in freq.most_common(10)]\n",
    "   \n",
    "fig = plt.figure(figsize = (20, 10)) \n",
    "plt.bar(freqWords, values, width = 0.4) \n",
    "plt.show() "
   ]
  },
  {
   "cell_type": "code",
   "execution_count": null,
   "metadata": {},
   "outputs": [],
   "source": [
    "sentences = nltk.sent_tokenize(raw)\n",
    "sentiments = []\n",
    "for sentence in sentences:\n",
    "    sid_obj = SentimentIntensityAnalyzer() \n",
    "    sentiment_dict = sid_obj.polarity_scores(sentence)\n",
    "    sentiment = sentiment_dict['compound']\n",
    "    sentiments.append(sentiment)\n",
    "                \n",
    "fig = plt.figure(figsize = (100, 50)) \n",
    "plt.plot(sentiments) \n",
    "plt.show()"
   ]
  }
 ],
 "metadata": {
  "kernelspec": {
   "display_name": "Python 3",
   "language": "python",
   "name": "python3"
  },
  "language_info": {
   "codemirror_mode": {
    "name": "ipython",
    "version": 3
   },
   "file_extension": ".py",
   "mimetype": "text/x-python",
   "name": "python",
   "nbconvert_exporter": "python",
   "pygments_lexer": "ipython3",
   "version": "3.8.5"
  }
 },
 "nbformat": 4,
 "nbformat_minor": 4
}
